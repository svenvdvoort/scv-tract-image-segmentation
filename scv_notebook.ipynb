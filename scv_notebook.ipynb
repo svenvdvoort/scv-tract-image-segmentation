{
 "cells": [
  {
   "cell_type": "code",
   "execution_count": null,
   "id": "f2cb7755",
   "metadata": {},
   "outputs": [],
   "source": [
    "import os\n",
    "data_folder = \"../input/uw-madison-gi-tract-image-segmentation/\" if os.environ.get(\"KAGGLE_KERNEL_RUN_TYPE\", \"\") else \"./data/\"\n",
    "\n",
    "# List all imports below\n",
    "import matplotlib.pyplot as plt\n",
    "import numpy as np\n",
    "import pandas as pd\n",
    "from scv_utility import *\n",
    "import torch\n",
    "\n",
    "np.random.seed(0)\n",
    "torch.manual_seed(0)\n",
    "pd.set_option(\"display.width\", 120)"
   ]
  },
  {
   "cell_type": "code",
   "execution_count": null,
   "id": "9ed0541b",
   "metadata": {},
   "outputs": [],
   "source": [
    "# Load small train and test datasets\n",
    "data = pd.read_csv(data_folder + \"train.csv\", converters={\"id\": str, \"class\": str, \"segmentation\": str})\n",
    "print(f\"Classes in train set: {data['class'].unique()}\")\n",
    "\n",
    "train_cases = [\"case2_\", \"case7_\", \"case15_\", \"case20_\", \"case22_\", \"case24_\", \"case29_\", \"case30_\", \"case32_\", \"case123_\"]\n",
    "test_cases = [\"case156_\", \"case154_\", \"case149_\"]\n",
    "train_data = data[data[\"id\"].str.contains(\"|\".join(train_cases))]\n",
    "test_data = data[data[\"id\"].str.contains(\"|\".join(test_cases))]\n",
    "print(f\"Number of train images: {len(train_data['id'].unique())}, test images: {len(test_data['id'].unique())}\")"
   ]
  },
  {
   "cell_type": "code",
   "execution_count": null,
   "id": "a18b65a9",
   "metadata": {},
   "outputs": [],
   "source": [
    "# Analyze train and test dataset to assure they have the same resolution\n",
    "for sample_id in np.concatenate((train_data[\"id\"].unique(), test_data[\"id\"].unique())):\n",
    "    try:\n",
    "        sample_image, sample_image_res, sample_pixel_size = get_image_data_from_id(sample_id, data_folder)\n",
    "#         print(f\"Image shape: {sample_image.shape}, reported resolution: {sample_image_res}, reported pixel size: {sample_pixel_size}\")\n",
    "        assert sample_image_res == (266, 266) and sample_pixel_size == 1.50, \"Incorrect resolution or pixel size\"\n",
    "    except Exception as e:\n",
    "        print(f\"Exception {e} while reading image {sample_id}\")\n",
    "print(\"Dataset analysis successfull\")"
   ]
  },
  {
   "cell_type": "code",
   "execution_count": null,
   "id": "de5ce985",
   "metadata": {},
   "outputs": [],
   "source": [
    "# Display an example of a converted run-length encoding\n",
    "example_id = \"case123_day20_slice_0067\"\n",
    "\n",
    "# Extract the necessary data\n",
    "sample_image, sample_image_res, _ = get_image_data_from_id(example_id, data_folder)\n",
    "rle = extract_rle(data, example_id, \"stomach\")\n",
    "x, y = rle_to_xy(rle, sample_image_res[0], sample_image_res[1])\n",
    "\n",
    "# Make the images\n",
    "imgplot = plt.imshow(sample_image)\n",
    "plt.show()\n",
    "imgplot = plt.imshow(sample_image)\n",
    "plt.fill(x, y, color=\"r\", alpha=0.3)\n",
    "plt.show()"
   ]
  }
 ],
 "metadata": {
  "interpreter": {
   "hash": "31f2aee4e71d21fbe5cf8b01ff0e069b9275f58929596ceb00d14d90e3e16cd6"
  },
  "kernelspec": {
   "display_name": "Python 3 (ipykernel)",
   "language": "python",
   "name": "python3"
  },
  "language_info": {
   "codemirror_mode": {
    "name": "ipython",
    "version": 3
   },
   "file_extension": ".py",
   "mimetype": "text/x-python",
   "name": "python",
   "nbconvert_exporter": "python",
   "pygments_lexer": "ipython3",
   "version": "3.9.2"
  }
 },
 "nbformat": 4,
 "nbformat_minor": 5
}
