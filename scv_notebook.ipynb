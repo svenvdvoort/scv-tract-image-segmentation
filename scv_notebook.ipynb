{
 "cells": [
  {
   "cell_type": "code",
   "execution_count": null,
   "id": "f2cb7755",
   "metadata": {},
   "outputs": [],
   "source": [
    "import os\n",
    "data_folder = \"../input/uw-madison-gi-tract-image-segmentation/\" if os.environ.get(\"KAGGLE_KERNEL_RUN_TYPE\", \"\") else \"./data/\"\n",
    "\n",
    "# List all imports below\n",
    "import matplotlib.pyplot as plt\n",
    "import numpy as np\n",
    "import pandas as pd\n",
    "from scv_utility import *\n",
    "import torch\n",
    "from torchvision import transforms\n",
    "\n",
    "np.random.seed(0)\n",
    "torch.manual_seed(0)\n",
    "pd.set_option(\"display.width\", 120)"
   ]
  },
  {
   "cell_type": "code",
   "execution_count": null,
   "id": "9ed0541b",
   "metadata": {},
   "outputs": [],
   "source": [
    "# Load small train and test datasets with only stomach labels\n",
    "labels = pd.read_csv(data_folder + \"train.csv\", converters={\"id\": str, \"class\": str, \"segmentation\": str})\n",
    "print(f\"Classes in train set: {labels['class'].unique()}\")\n",
    "\n",
    "all_cases = get_all_cases(data_folder)\n",
    "train_cases = all_cases[:30]\n",
    "val_cases = all_cases[30:35]\n",
    "test_cases = all_cases[35:]\n",
    "\n",
    "# Toy data; uncomment and comment the above values\n",
    "# train_cases = [\"case2_\", \"case7_\", \"case15_\", \"case20_\", \"case22_\", \"case24_\", \"case29_\", \"case30_\", \"case32_\", \"case123_\"]\n",
    "# val_cases = [\"case146_\", \"case147_\", \"case148_\"]\n",
    "# test_cases = [\"case156_\", \"case154_\", \"case149_\"]\n",
    "\n",
    "train_labels = labels[labels[\"id\"].str.contains(\"|\".join(train_cases))]\n",
    "val_labels = labels[labels[\"id\"].str.contains(\"|\".join(val_cases))]\n",
    "test_labels = labels[labels[\"id\"].str.contains(\"|\".join(test_cases))]\n",
    "print(f\"Data split sizes: train: {len(train_labels)}, val: {len(val_labels)}, test: {len(test_labels)}\")"
   ]
  },
  {
   "cell_type": "markdown",
   "id": "067ffb52",
   "metadata": {},
   "source": [
    "## Classification network"
   ]
  },
  {
   "cell_type": "code",
   "execution_count": null,
   "id": "a3531e67",
   "metadata": {},
   "outputs": [],
   "source": [
    "TRAIN_CLASSIFICATION = False\n",
    "\n",
    "if TRAIN_CLASSIFICATION:\n",
    "    # Training parameters\n",
    "    batch_size = 32\n",
    "    learning_rate = 0.001\n",
    "    criterion = torch.nn.BCEWithLogitsLoss()\n",
    "    max_epochs = 30\n",
    "\n",
    "    # Try using gpu instead of cpu\n",
    "    device = torch.device(\"cuda:0\") if torch.cuda.is_available() else torch.device(\"cpu\")\n",
    "\n",
    "    train_labels = train_labels[(train_labels[\"class\"] == \"stomach\")]\n",
    "    val_labels = val_labels[(val_labels[\"class\"] == \"stomach\")]\n",
    "    test_labels = test_labels[(test_labels[\"class\"] == \"stomach\")]\n",
    "    train_data = MRIClassificationDataset(data_folder, train_labels, transform = transforms.Compose([\n",
    "                                               Rescale((266,266)), \n",
    "                                               RandomCrop(),\n",
    "                                               LabelSmoothing(p=0.4)]))\n",
    "    val_data = MRIClassificationDataset(data_folder, val_labels, transform = transforms.Compose([Rescale((266,266))]))\n",
    "    test_data = MRIClassificationDataset(data_folder, test_labels, transform = transforms.Compose([Rescale((266,266))]))\n",
    "    print(f\"Number of train images: {len(train_data)}, val images: {len(val_data)}, test images: {len(test_data)}\")\n",
    "\n",
    "    # Initialize network\n",
    "    from torchvision.models import resnet50\n",
    "    net = torch.nn.Sequential(resnet50(pretrained=False), torch.nn.Linear(1000, 3))\n",
    "    net.to(device)\n",
    "    optimizer = torch.optim.Adam(net.parameters(), lr=learning_rate)\n",
    "\n",
    "    # Training loop\n",
    "    train_losses, val_losses, test_losses = train(net, train_data, val_data, test_data, criterion, optimizer, batch_size, max_epochs, \"classifier\")\n",
    "\n",
    "    plt.plot(list(range(1, len(train_losses) + 1)), train_losses, label=\"Train set\")\n",
    "    plt.plot(list(range(1, len(val_losses) + 1)), val_losses, label=\"Validation set\")\n",
    "    plt.plot(list(range(1, len(test_losses) + 1)), test_losses, label=\"Test set\")\n",
    "    plt.xlabel(\"Epoch\")\n",
    "    plt.ylabel(\"Loss (BCE with logits)\")\n",
    "    plt.legend()\n",
    "    plt.show()"
   ]
  },
  {
   "cell_type": "markdown",
   "id": "89056f54",
   "metadata": {},
   "source": [
    "## Segmentation network"
   ]
  },
  {
   "cell_type": "code",
   "execution_count": null,
   "id": "fcc1d225",
   "metadata": {},
   "outputs": [],
   "source": [
    "TRAIN_SEGMENTATION = True\n",
    "ONLY_NON_EMPTY_GT = True\n",
    "\n",
    "if TRAIN_SEGMENTATION:\n",
    "    # Training parameters\n",
    "    batch_size = 32\n",
    "    learning_rate = 0.0001\n",
    "    criterion = torch.nn.BCEWithLogitsLoss()\n",
    "    max_epochs = 30\n",
    "\n",
    "    # Try using gpu instead of cpu\n",
    "    device = torch.device(\"cuda:0\") if torch.cuda.is_available() else torch.device(\"cpu\")\n",
    "\n",
    "    if ONLY_NON_EMPTY_GT:\n",
    "        train_labels = train_labels[train_labels[\"segmentation\"] != \"\"]\n",
    "        val_labels = val_labels[val_labels[\"segmentation\"] != \"\"]\n",
    "        test_labels = test_labels[test_labels[\"segmentation\"] != \"\"]\n",
    "    \n",
    "    train_data = MRISegmentationDataset(data_folder, train_labels, transform = transforms.Compose([\n",
    "                                               Rescale((266,266)), \n",
    "                                               RandomCrop(),\n",
    "                                               LabelSmoothing(p=0.4),\n",
    "                                               Normalize(mean=0.458, std=0.229)]))\n",
    "    val_data = MRISegmentationDataset(data_folder, val_labels, transform = transforms.Compose([Rescale((266,266)), Normalize(mean=0.458, std=0.229)]))\n",
    "    test_data = MRISegmentationDataset(data_folder, test_labels, transform = transforms.Compose([Rescale((266,266)), Normalize(mean=0.458, std=0.229)]))\n",
    "    print(f\"Number of train images: {len(train_data)}, val images: {len(val_data)}, test images: {len(test_data)}\")\n",
    "\n",
    "    # Initialize network\n",
    "    from torchvision.models.segmentation import fcn_resnet50\n",
    "    net = fcn_resnet50(pretrained=False, num_classes=3)\n",
    "    net.to(device)\n",
    "    optimizer = torch.optim.Adam(net.parameters(), lr=learning_rate)\n",
    "\n",
    "    # Training loop\n",
    "    start_training_time = time.time()\n",
    "    train_losses, val_losses, test_losses = train(net, train_data, val_data, test_data, criterion, optimizer, batch_size, max_epochs, \"segmentation\", lambda out : out[\"out\"])\n",
    "    end_training_time = time.time()\n",
    "    time_training_lapsed = end_training_time - start_training_time\n",
    "    time_convert(\"training\", time_training_lapsed)\n",
    "    \n",
    "    plt.plot(list(range(1, len(train_losses) + 1)), train_losses, label=\"Train set\")\n",
    "    plt.plot(list(range(1, len(val_losses) + 1)), val_losses, label=\"Validation set\")\n",
    "    plt.plot(list(range(1, len(test_losses) + 1)), test_losses, label=\"Test set\")\n",
    "    plt.xlabel(\"Epoch\")\n",
    "    plt.ylabel(\"Loss (BCE with logits)\")\n",
    "    plt.legend()\n",
    "    plt.show()"
   ]
  }
 ],
 "metadata": {
  "interpreter": {
   "hash": "31f2aee4e71d21fbe5cf8b01ff0e069b9275f58929596ceb00d14d90e3e16cd6"
  },
  "kernelspec": {
   "display_name": "Python 3 (ipykernel)",
   "language": "python",
   "name": "python3"
  },
  "language_info": {
   "codemirror_mode": {
    "name": "ipython",
    "version": 3
   },
   "file_extension": ".py",
   "mimetype": "text/x-python",
   "name": "python",
   "nbconvert_exporter": "python",
   "pygments_lexer": "ipython3",
   "version": "3.8.10"
  }
 },
 "nbformat": 4,
 "nbformat_minor": 5
}
