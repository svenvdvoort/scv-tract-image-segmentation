{
 "cells": [
  {
   "cell_type": "code",
   "execution_count": null,
   "id": "f2cb7755",
   "metadata": {},
   "outputs": [],
   "source": [
    "import os\n",
    "data_folder = \"../input/uw-madison-gi-tract-image-segmentation/\" if os.environ.get(\"KAGGLE_KERNEL_RUN_TYPE\", \"\") else \"./data/\"\n",
    "\n",
    "# List all imports below\n",
    "from scv_utility import greeting\n",
    "import matplotlib.pyplot as plt\n",
    "import numpy as np\n",
    "import pandas as pd"
   ]
  },
  {
   "cell_type": "code",
   "execution_count": null,
   "id": "6679b9c0",
   "metadata": {},
   "outputs": [],
   "source": [
    "# Demonstrate that we can import from the utility script\n",
    "greeting(\"Computer Vision\")"
   ]
  },
  {
   "cell_type": "code",
   "execution_count": null,
   "id": "a18b65a9",
   "metadata": {},
   "outputs": [],
   "source": [
    "df = pd.read_csv(data_folder + \"train.csv\", dtype=str)\n",
    "print(df.head(n=5))\n",
    "print(df.loc[df[\"id\"] == \"case123_day20_slice_0065\"])"
   ]
  }
 ],
 "metadata": {
  "kernelspec": {
   "display_name": "Python 3 (ipykernel)",
   "language": "python",
   "name": "python3"
  },
  "language_info": {
   "codemirror_mode": {
    "name": "ipython",
    "version": 3
   },
   "file_extension": ".py",
   "mimetype": "text/x-python",
   "name": "python",
   "nbconvert_exporter": "python",
   "pygments_lexer": "ipython3",
   "version": "3.8.10"
  }
 },
 "nbformat": 4,
 "nbformat_minor": 5
}
