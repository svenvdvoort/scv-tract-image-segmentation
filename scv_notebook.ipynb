{
 "cells": [
  {
   "cell_type": "code",
   "execution_count": null,
   "id": "f2cb7755",
   "metadata": {},
   "outputs": [],
   "source": [
    "import os\n",
    "data_folder = \"../input/uw-madison-gi-tract-image-segmentation/\" if os.environ.get(\"KAGGLE_KERNEL_RUN_TYPE\", \"\") else \"./data/\"\n",
    "\n",
    "# List all imports below\n",
    "import matplotlib.pyplot as plt\n",
    "import numpy as np\n",
    "import pandas as pd\n",
    "from scv_utility import *\n",
    "import torch\n",
    "\n",
    "np.random.seed(0)\n",
    "torch.manual_seed(0)\n",
    "pd.set_option(\"display.width\", 120)"
   ]
  },
  {
   "cell_type": "code",
   "execution_count": null,
   "id": "9ed0541b",
   "metadata": {},
   "outputs": [],
   "source": [
    "# Load small train and test datasets with only stomach labels\n",
    "labels = pd.read_csv(data_folder + \"train.csv\", converters={\"id\": str, \"class\": str, \"segmentation\": str})\n",
    "print(f\"Classes in train set: {labels['class'].unique()}\")\n",
    "\n",
    "train_cases = [\"case2_\", \"case7_\", \"case15_\", \"case20_\", \"case22_\", \"case24_\", \"case29_\", \"case30_\", \"case32_\", \"case123_\"]\n",
    "test_cases = [\"case156_\", \"case154_\", \"case149_\"]\n",
    "train_labels = labels[labels[\"id\"].str.contains(\"|\".join(train_cases)) & (labels[\"class\"] == \"stomach\")]\n",
    "test_labels = labels[labels[\"id\"].str.contains(\"|\".join(test_cases)) & (labels[\"class\"] == \"stomach\")]\n",
    "print(f\"Number of train images: {len(train_labels['id'])}, test images: {len(test_labels['id'])}\")"
   ]
  },
  {
   "cell_type": "code",
   "execution_count": null,
   "id": "a18b65a9",
   "metadata": {},
   "outputs": [],
   "source": [
    "# Analyze train and test dataset to assure they have the same resolution\n",
    "for sample_id in np.concatenate((train_labels[\"id\"].unique(), test_labels[\"id\"].unique())):\n",
    "    try:\n",
    "        sample_image, sample_image_res, sample_pixel_size = get_image_data_from_id(sample_id, data_folder)\n",
    "        #print(f\"Image shape: {sample_image.shape}, reported resolution: {sample_image_res}, reported pixel size: {sample_pixel_size}\")\n",
    "        assert sample_image_res == (266, 266) and sample_pixel_size == 1.50, \"Incorrect resolution or pixel size\"\n",
    "    except Exception as e:\n",
    "        print(f\"Exception {e} while reading image {sample_id}\")\n",
    "print(\"Dataset analysis successfull\")"
   ]
  },
  {
   "cell_type": "code",
   "execution_count": null,
   "id": "f2a90b8e",
   "metadata": {},
   "outputs": [],
   "source": [
    "\n",
    "train_data = MRIDataset(data_folder, train_labels)\n",
    "print(len(train_data))\n",
    "sample_image, sample_mask = train_data.__getitem__(66)\n",
    "\n",
    "plt.imshow(sample_image)\n",
    "plt.imshow(sample_mask, cmap=\"jet\", alpha=0.3)\n",
    "plt.show()"
   ]
  }
 ],
 "metadata": {
  "interpreter": {
   "hash": "31f2aee4e71d21fbe5cf8b01ff0e069b9275f58929596ceb00d14d90e3e16cd6"
  },
  "kernelspec": {
   "display_name": "Python 3 (ipykernel)",
   "language": "python",
   "name": "python3"
  },
  "language_info": {
   "codemirror_mode": {
    "name": "ipython",
    "version": 3
   },
   "file_extension": ".py",
   "mimetype": "text/x-python",
   "name": "python",
   "nbconvert_exporter": "python",
   "pygments_lexer": "ipython3",
   "version": "3.8.10"
  }
 },
 "nbformat": 4,
 "nbformat_minor": 5
}
