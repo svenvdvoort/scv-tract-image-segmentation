{
 "cells": [
  {
   "cell_type": "code",
   "execution_count": null,
   "id": "f2cb7755",
   "metadata": {},
   "outputs": [],
   "source": [
    "import os\n",
    "data_folder = \"../input/uw-madison-gi-tract-image-segmentation/\" if os.environ.get(\"KAGGLE_KERNEL_RUN_TYPE\", \"\") else \"./data/\"\n",
    "\n",
    "# List all imports below\n",
    "import matplotlib.pyplot as plt\n",
    "import numpy as np\n",
    "import pandas as pd\n",
    "from scv_utility import *\n",
    "import torch\n",
    "\n",
    "np.random.seed(0)\n",
    "torch.manual_seed(0)\n",
    "pd.set_option(\"display.width\", 120)"
   ]
  },
  {
   "cell_type": "code",
   "execution_count": null,
   "id": "9ed0541b",
   "metadata": {},
   "outputs": [],
   "source": [
    "# Load small train and test datasets with only stomach labels\n",
    "labels = pd.read_csv(data_folder + \"train.csv\", converters={\"id\": str, \"class\": str, \"segmentation\": str})\n",
    "print(f\"Classes in train set: {labels['class'].unique()}\")\n",
    "\n",
    "train_cases = [\"case2_\", \"case7_\", \"case15_\", \"case20_\", \"case22_\", \"case24_\", \"case29_\", \"case30_\", \"case32_\", \"case123_\"]\n",
    "test_cases = [\"case156_\", \"case154_\", \"case149_\"]\n",
    "train_labels = labels[labels[\"id\"].str.contains(\"|\".join(train_cases))]\n",
    "test_labels = labels[labels[\"id\"].str.contains(\"|\".join(test_cases))]"
   ]
  },
  {
   "cell_type": "code",
   "execution_count": null,
   "id": "a18b65a9",
   "metadata": {},
   "outputs": [],
   "source": [
    "# Analyze train and test dataset to assure they have the same resolution\n",
    "for sample_id in np.concatenate((train_labels[\"id\"].unique(), test_labels[\"id\"].unique())):\n",
    "    try:\n",
    "        sample_image, sample_image_res, sample_pixel_size = get_image_data_from_id(sample_id, data_folder)\n",
    "        #print(f\"Image shape: {sample_image.shape}, reported resolution: {sample_image_res}, reported pixel size: {sample_pixel_size}\")\n",
    "        assert sample_image_res == (266, 266) and sample_pixel_size == 1.50, \"Incorrect resolution or pixel size\"\n",
    "    except Exception as e:\n",
    "        print(f\"Exception {e} while reading image {sample_id}\")\n",
    "print(\"Dataset analysis successfull\")"
   ]
  },
  {
   "cell_type": "markdown",
   "id": "067ffb52",
   "metadata": {},
   "source": [
    "## Classification network"
   ]
  },
  {
   "cell_type": "code",
   "execution_count": null,
   "id": "a3531e67",
   "metadata": {},
   "outputs": [],
   "source": [
    "# Training parameters\n",
    "batch_size = 32\n",
    "learning_rate = 0.01\n",
    "criterion = torch.nn.BCEWithLogitsLoss()\n",
    "epochs = 3\n",
    "\n",
    "# Try using gpu instead of cpu\n",
    "device = torch.device(\"cuda:0\") if torch.cuda.is_available() else torch.device(\"cpu\")\n",
    "\n",
    "train_labels = train_labels[(train_labels[\"class\"] == \"stomach\")]\n",
    "test_labels = test_labels[(test_labels[\"class\"] == \"stomach\")]\n",
    "train_data = MRIClassificationDataset(data_folder, train_labels)\n",
    "test_data = MRIClassificationDataset(data_folder, test_labels)\n",
    "print(f\"Number of train images: {len(train_data)}, test images: {len(test_data)}\")\n",
    "\n",
    "# Initialize network\n",
    "from torchvision.models import resnet50\n",
    "net = torch.nn.Sequential(resnet50(pretrained=False), torch.nn.Linear(1000, 1))\n",
    "net.to(device)\n",
    "optimizer = torch.optim.Adam(net.parameters(), lr=learning_rate)\n",
    "\n",
    "# Training loop\n",
    "train(net, train_data, test_data, criterion, optimizer, batch_size, epochs, \"classifier\")\n",
    "\n",
    "# TODO calculate accuracy, precision, recall, etc on test set"
   ]
  },
  {
   "cell_type": "markdown",
   "id": "89056f54",
   "metadata": {},
   "source": [
    "## Segmentation network"
   ]
  },
  {
   "cell_type": "code",
   "execution_count": null,
   "id": "fcc1d225",
   "metadata": {},
   "outputs": [],
   "source": [
    "# Training parameters\n",
    "batch_size = 32\n",
    "learning_rate = 0.01\n",
    "criterion = torch.nn.BCEWithLogitsLoss()\n",
    "epochs = 3\n",
    "\n",
    "# Try using gpu instead of cpu\n",
    "device = torch.device(\"cuda:0\") if torch.cuda.is_available() else torch.device(\"cpu\")\n",
    "\n",
    "train_labels = train_labels[(train_labels[\"class\"] == \"stomach\") & (train_labels[\"segmentation\"] != \"\")]\n",
    "test_labels = test_labels[(test_labels[\"class\"] == \"stomach\") & (test_labels[\"segmentation\"] != \"\")]\n",
    "train_data = MRISegmentationDataset(data_folder, train_labels)\n",
    "test_data = MRISegmentationDataset(data_folder, test_labels)\n",
    "print(f\"Number of train images: {len(train_data)}, test images: {len(test_data)}\")\n",
    "\n",
    "# Initialize network\n",
    "from torchvision.models.segmentation import fcn_resnet50\n",
    "net = fcn_resnet50(pretrained=False, num_classes=3)\n",
    "net.to(device)\n",
    "optimizer = torch.optim.Adam(net.parameters(), lr=learning_rate)\n",
    "\n",
    "# Training loop\n",
    "train(net, train_data, test_data, criterion, optimizer, batch_size, epochs, \"segmentation\", lambda out : out[\"out\"])\n",
    "\n",
    "# TODO calculate segmentation metrics on test set"
   ]
  },
  {
   "cell_type": "code",
   "execution_count": null,
   "id": "f2a90b8e",
   "metadata": {},
   "outputs": [],
   "source": [
    "# Visualize example image and mask\n",
    "sample_train_images, sample_train_masks = next(iter(DataLoader(train_data, batch_size=16)))\n",
    "sample_test_images, sample_test_masks = next(iter(DataLoader(test_data, batch_size=16)))\n",
    "\n",
    "sample_id = 6\n",
    "plt.imshow(sample_train_images[sample_id][0])\n",
    "plt.imshow(sample_train_masks[sample_id][0], cmap=\"jet\", alpha=0.3)\n",
    "plt.show()\n",
    "\n",
    "plt.imshow(sample_test_images[sample_id][0])\n",
    "plt.imshow(sample_test_masks[sample_id][0], cmap=\"jet\", alpha=0.3)\n",
    "plt.show()"
   ]
  },
  {
   "cell_type": "code",
   "execution_count": null,
   "id": "9a1df32f",
   "metadata": {},
   "outputs": [],
   "source": [
    "# Evaluate network on sample images\n",
    "sample_train_predictions = torch.sigmoid(net(sample_train_images.expand(-1, 3, -1, -1).to(device))[\"out\"]).detach().cpu().numpy()\n",
    "sample_test_predictions = torch.sigmoid(net(sample_test_images.expand(-1, 3, -1, -1).to(device))[\"out\"]).detach().cpu().numpy()"
   ]
  },
  {
   "cell_type": "code",
   "execution_count": null,
   "id": "d78384da",
   "metadata": {},
   "outputs": [],
   "source": [
    "sample_id = 6\n",
    "\n",
    "# Plot sample from training set\n",
    "plt.imshow(sample_train_images[sample_id][0])\n",
    "plt.imshow(sample_train_masks[sample_id][0], cmap=\"jet\", alpha=0.3)\n",
    "plt.show()\n",
    "plt.imshow(sample_train_images[sample_id][0])\n",
    "plt.imshow(sample_train_predictions[sample_id][0], cmap=\"jet\", alpha=0.3)\n",
    "plt.show()\n",
    "print(f\"Train sample prediction min: {np.min(sample_train_predictions[sample_id][0])}\")\n",
    "print(f\"Train sample prediction max: {np.max(sample_train_predictions[sample_id][0])}\")\n",
    "\n",
    "# Plot sample from test set\n",
    "plt.imshow(sample_test_images[sample_id][0])\n",
    "plt.imshow(sample_test_masks[sample_id][0], cmap=\"jet\", alpha=0.3)\n",
    "plt.show()\n",
    "plt.imshow(sample_test_images[sample_id][0])\n",
    "plt.imshow(sample_test_predictions[sample_id][0], cmap=\"jet\", alpha=0.3)\n",
    "plt.show()\n",
    "print(f\"Test sample prediction min: {np.min(sample_test_predictions[sample_id][0])}\")\n",
    "print(f\"Test sample prediction max: {np.max(sample_test_predictions[sample_id][0])}\")"
   ]
  }
 ],
 "metadata": {
  "interpreter": {
   "hash": "31f2aee4e71d21fbe5cf8b01ff0e069b9275f58929596ceb00d14d90e3e16cd6"
  },
  "kernelspec": {
   "display_name": "Python 3 (ipykernel)",
   "language": "python",
   "name": "python3"
  },
  "language_info": {
   "codemirror_mode": {
    "name": "ipython",
    "version": 3
   },
   "file_extension": ".py",
   "mimetype": "text/x-python",
   "name": "python",
   "nbconvert_exporter": "python",
   "pygments_lexer": "ipython3",
   "version": "3.9.2"
  }
 },
 "nbformat": 4,
 "nbformat_minor": 5
}
