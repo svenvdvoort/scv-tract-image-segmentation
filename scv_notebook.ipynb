{
 "cells": [
  {
   "cell_type": "code",
   "execution_count": null,
   "id": "f2cb7755",
   "metadata": {},
   "outputs": [],
   "source": [
    "import os\n",
    "data_folder = \"../input/uw-madison-gi-tract-image-segmentation/\" if os.environ.get(\"KAGGLE_KERNEL_RUN_TYPE\", \"\") else \"./data/\"\n",
    "\n",
    "# List all imports below\n",
    "import matplotlib.pyplot as plt\n",
    "import numpy as np\n",
    "import pandas as pd\n",
    "from scv_utility import *\n",
    "import torch\n",
    "from torch.utils.data import DataLoader\n",
    "\n",
    "np.random.seed(0)\n",
    "torch.manual_seed(0)\n",
    "pd.set_option(\"display.width\", 120)"
   ]
  },
  {
   "cell_type": "code",
   "execution_count": null,
   "id": "9ed0541b",
   "metadata": {},
   "outputs": [],
   "source": [
    "# Load small train and test datasets with only stomach labels\n",
    "labels = pd.read_csv(data_folder + \"train.csv\", converters={\"id\": str, \"class\": str, \"segmentation\": str})\n",
    "print(f\"Classes in train set: {labels['class'].unique()}\")\n",
    "\n",
    "train_cases = [\"case123_\"] #, \"case2_\", \"case7_\", \"case15_\", \"case20_\", \"case22_\", \"case24_\", \"case29_\", \"case30_\", \"case32_\", \"case123_\"]\n",
    "test_cases = [\"case156_\"] #, \"case154_\", \"case149_\"]\n",
    "train_labels = labels[labels[\"id\"].str.contains(\"|\".join(train_cases)) & (labels[\"class\"] == \"stomach\")]\n",
    "test_labels = labels[labels[\"id\"].str.contains(\"|\".join(test_cases)) & (labels[\"class\"] == \"stomach\")]\n",
    "train_data = MRIDataset(data_folder, train_labels)\n",
    "test_data = MRIDataset(data_folder, test_labels)\n",
    "print(f\"Number of train images: {len(train_data)}, test images: {len(test_data)}\")"
   ]
  },
  {
   "cell_type": "code",
   "execution_count": null,
   "id": "a18b65a9",
   "metadata": {},
   "outputs": [],
   "source": [
    "# Analyze train and test dataset to assure they have the same resolution\n",
    "for sample_id in np.concatenate((train_labels[\"id\"].unique(), test_labels[\"id\"].unique())):\n",
    "    try:\n",
    "        sample_image, sample_image_res, sample_pixel_size = get_image_data_from_id(sample_id, data_folder)\n",
    "        #print(f\"Image shape: {sample_image.shape}, reported resolution: {sample_image_res}, reported pixel size: {sample_pixel_size}\")\n",
    "        assert sample_image_res == (266, 266) and sample_pixel_size == 1.50, \"Incorrect resolution or pixel size\"\n",
    "    except Exception as e:\n",
    "        print(f\"Exception {e} while reading image {sample_id}\")\n",
    "print(\"Dataset analysis successfull\")"
   ]
  },
  {
   "cell_type": "code",
   "execution_count": null,
   "id": "f2a90b8e",
   "metadata": {},
   "outputs": [],
   "source": [
    "# Visualize example image and mask\n",
    "sample_train_loader = DataLoader(train_data, batch_size=2)\n",
    "sample_images, sample_masks = next(iter(sample_train_loader))\n",
    "\n",
    "plt.imshow(sample_images[0][0])\n",
    "plt.show()\n",
    "plt.imshow(sample_masks[0][0], cmap=\"jet\", alpha=0.3)\n",
    "plt.show()\n",
    "print(type(train_data[0][0]))"
   ]
  },
  {
   "cell_type": "code",
   "execution_count": null,
   "id": "b0a42ebd",
   "metadata": {},
   "outputs": [],
   "source": [
    "# CREDITS for a big portion of the training loop: CS4240 DL assignment 3\n",
    "def try_gpu():\n",
    "    \"\"\"\n",
    "    If GPU is available, return torch.device as cuda:0; else return torch.device\n",
    "    as cpu.\n",
    "    \"\"\"\n",
    "    if torch.cuda.is_available():\n",
    "        device = torch.device('cuda:0')\n",
    "    else:\n",
    "        device = torch.device('cpu')\n",
    "    return device"
   ]
  },
  {
   "cell_type": "code",
   "execution_count": null,
   "id": "811c88aa",
   "metadata": {},
   "outputs": [],
   "source": [
    "train_loader = DataLoader(train_data, batch_size=64, shuffle=True)\n",
    "test_loader = DataLoader(test_data, batch_size=64)\n",
    "\n",
    "# Training parameters\n",
    "learning_rate = 0.01\n",
    "epochs = 2\n",
    "\n",
    "# Initialize network\n",
    "net = UNet(enc_chs=(1,64,128,256,512,1024), dec_chs=(1024, 512, 256, 128, 64), num_class=1, retain_dim=True, out_sz=(266,266))\n",
    "optimizer = torch.optim.SGD(net.parameters(), lr = learning_rate)\n",
    "\n",
    "# TODO: A more reasonable loss function !!!!!!!!!!!!\n",
    "criterion = nn.CrossEntropyLoss()\n",
    "\n",
    "# Define list to store losses and performances of each iteration\n",
    "train_losses = []\n",
    "train_accs = []\n",
    "test_accs = []\n",
    "\n",
    "# Try using gpu instead of cpu\n",
    "device = try_gpu()\n",
    "\n",
    "for epoch in range(epochs):\n",
    "\n",
    "    # Network in training mode and to device\n",
    "    net.train()\n",
    "    net.to(device)\n",
    "\n",
    "    # Training loop\n",
    "    for i, (x_batch, y_batch) in enumerate(train_loader):\n",
    "\n",
    "        # Set to same device\n",
    "        x_batch, y_batch = x_batch.to(device), y_batch.to(device)\n",
    "\n",
    "        # Set the gradients to zero\n",
    "        optimizer.zero_grad()\n",
    "\n",
    "        # Perform forward pass\n",
    "        y_pred = net(x_batch)\n",
    "\n",
    "        # Compute the loss\n",
    "        loss = criterion(y_pred, y_batch)\n",
    "        train_losses.append(loss)\n",
    "        \n",
    "        # Backward computation and update\n",
    "        loss.backward()\n",
    "        optimizer.step()\n",
    "\n",
    "    # TODO: Print performance (IoU metric?)\n",
    "    print('Epoch: {:.0f}'.format(epoch+1))\n",
    "    print('')"
   ]
  },
  {
   "cell_type": "code",
   "execution_count": null,
   "id": "7225a958",
   "metadata": {},
   "outputs": [],
   "source": [
    "unet = UNet(enc_chs=(1,64,128,256,512,1024),retain_dim=True, out_sz=(266,266))\n",
    "x    = torch.randn(1, 1, 266, 266)\n",
    "print(x.dtype)\n",
    "print(sample_images.dtype)\n",
    "print(unet(x).shape)\n",
    "print(unet(sample_images.to(torch.float32)).shape)"
   ]
  },
  {
   "cell_type": "code",
   "execution_count": null,
   "id": "06977402",
   "metadata": {},
   "outputs": [],
   "source": [
    "result = net(sample_images)\n",
    "\n",
    "print(sample_images.shape)\n",
    "print(result.shape)"
   ]
  },
  {
   "cell_type": "code",
   "execution_count": null,
   "id": "0c5d0243",
   "metadata": {},
   "outputs": [],
   "source": [
    "plt.imshow(sample_images[0][0])\n",
    "plt.show()\n",
    "plt.imshow(result[0][0].detach().numpy(), cmap=\"Greys\")\n",
    "plt.show()\n",
    "\n",
    "plt.imshow(sample_images[0][0])\n",
    "plt.imshow(result[0][0].detach().numpy(), cmap=\"Greys\", alpha=0.3)\n",
    "plt.show()"
   ]
  },
  {
   "cell_type": "code",
   "execution_count": null,
   "id": "c015d90f",
   "metadata": {},
   "outputs": [],
   "source": []
  }
 ],
 "metadata": {
  "interpreter": {
   "hash": "31f2aee4e71d21fbe5cf8b01ff0e069b9275f58929596ceb00d14d90e3e16cd6"
  },
  "kernelspec": {
   "display_name": "Python 3 (ipykernel)",
   "language": "python",
   "name": "python3"
  },
  "language_info": {
   "codemirror_mode": {
    "name": "ipython",
    "version": 3
   },
   "file_extension": ".py",
   "mimetype": "text/x-python",
   "name": "python",
   "nbconvert_exporter": "python",
   "pygments_lexer": "ipython3",
   "version": "3.9.2"
  }
 },
 "nbformat": 4,
 "nbformat_minor": 5
}
