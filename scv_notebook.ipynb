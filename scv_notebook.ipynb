{
 "cells": [
  {
   "cell_type": "code",
   "execution_count": null,
   "id": "f2cb7755",
   "metadata": {},
   "outputs": [],
   "source": [
    "import os\n",
    "data_folder = \"../input/uw-madison-gi-tract-image-segmentation/\" if os.environ.get(\"KAGGLE_KERNEL_RUN_TYPE\", \"\") else \"./data/\"\n",
    "\n",
    "# List all imports below\n",
    "import matplotlib.pyplot as plt\n",
    "import numpy as np\n",
    "import pandas as pd\n",
    "from scv_utility import *\n",
    "import torch\n",
    "from torch.utils.data import DataLoader\n",
    "\n",
    "np.random.seed(0)\n",
    "torch.manual_seed(0)\n",
    "pd.set_option(\"display.width\", 120)"
   ]
  },
  {
   "cell_type": "code",
   "execution_count": null,
   "id": "9ed0541b",
   "metadata": {},
   "outputs": [],
   "source": [
    "# Load small train and test datasets with only stomach labels\n",
    "labels = pd.read_csv(data_folder + \"train.csv\", converters={\"id\": str, \"class\": str, \"segmentation\": str})\n",
    "print(f\"Classes in train set: {labels['class'].unique()}\")\n",
    "\n",
    "train_cases = [\"case2_\", \"case7_\", \"case15_\", \"case20_\", \"case22_\", \"case24_\", \"case29_\", \"case30_\", \"case32_\", \"case123_\"]\n",
    "test_cases = [\"case156_\"] #, \"case154_\", \"case149_\"]\n",
    "label_filters = (labels[\"class\"] == \"stomach\") & (labels[\"segmentation\"] != \"\")\n",
    "train_labels = labels[labels[\"id\"].str.contains(\"|\".join(train_cases)) & label_filters]\n",
    "test_labels = labels[labels[\"id\"].str.contains(\"|\".join(test_cases)) & label_filters]\n",
    "train_data = MRIDataset(data_folder, train_labels)\n",
    "test_data = MRIDataset(data_folder, test_labels)\n",
    "print(f\"Number of train images: {len(train_data)}, test images: {len(test_data)}\")"
   ]
  },
  {
   "cell_type": "code",
   "execution_count": null,
   "id": "a18b65a9",
   "metadata": {},
   "outputs": [],
   "source": [
    "# Analyze train and test dataset to assure they have the same resolution\n",
    "for sample_id in np.concatenate((train_labels[\"id\"].unique(), test_labels[\"id\"].unique())):\n",
    "    try:\n",
    "        sample_image, sample_image_res, sample_pixel_size = get_image_data_from_id(sample_id, data_folder)\n",
    "        #print(f\"Image shape: {sample_image.shape}, reported resolution: {sample_image_res}, reported pixel size: {sample_pixel_size}\")\n",
    "        assert sample_image_res == (266, 266) and sample_pixel_size == 1.50, \"Incorrect resolution or pixel size\"\n",
    "    except Exception as e:\n",
    "        print(f\"Exception {e} while reading image {sample_id}\")\n",
    "print(\"Dataset analysis successfull\")"
   ]
  },
  {
   "cell_type": "code",
   "execution_count": null,
   "id": "f2a90b8e",
   "metadata": {},
   "outputs": [],
   "source": [
    "# Visualize example image and mask\n",
    "sample_train_loader = DataLoader(train_data, batch_size=84)\n",
    "sample_images, sample_masks = next(iter(sample_train_loader))\n",
    "\n",
    "plt.imshow(sample_images[66][0])\n",
    "plt.imshow(sample_masks[66][0], cmap=\"jet\", alpha=0.3)\n",
    "plt.show()"
   ]
  },
  {
   "cell_type": "code",
   "execution_count": null,
   "id": "b0a42ebd",
   "metadata": {},
   "outputs": [],
   "source": [
    "# CREDITS for a big portion of the training loop: CS4240 DL assignment 3\n",
    "\n",
    "# Training parameters\n",
    "batch_size = 32\n",
    "learning_rate = 0.01\n",
    "momentum = 0.9\n",
    "criterion = bce_dice_loss\n",
    "epochs = 20\n",
    "\n",
    "# Try using gpu instead of cpu\n",
    "if torch.cuda.is_available():\n",
    "    device = torch.device('cuda:0')\n",
    "else:\n",
    "    device = torch.device('cpu')\n",
    "print(f\"Selected device: {device}\")\n",
    "\n",
    "train_loader = DataLoader(train_data, batch_size, shuffle=True)\n",
    "test_loader = DataLoader(test_data, batch_size)\n",
    "\n",
    "# Initialize network\n",
    "net = UNet(enc_chs=(1,64,128,256,512,1024), dec_chs=(1024, 512, 256, 128, 64), num_class=1, retain_dim=True, out_sz=(266,266))\n",
    "net.train()\n",
    "net.to(device)\n",
    "optimizer = torch.optim.SGD(net.parameters(), lr=learning_rate, momentum=momentum)\n",
    "\n",
    "# Training loop\n",
    "for epoch in range(epochs):\n",
    "    total_epoch_loss = 0\n",
    "    for i, (x_batch, y_batch) in enumerate(train_loader):\n",
    "        x_batch, y_batch = x_batch.to(device), y_batch.to(device)\n",
    "        optimizer.zero_grad()               # Set the gradients to zero\n",
    "        y_pred = net(x_batch)               # Perform forward pass\n",
    "        loss = criterion(y_pred, y_batch)   # Compute the loss\n",
    "        loss.backward()                     # Backward pass to compute gradients\n",
    "        optimizer.step()                    # Update parameters\n",
    "        total_epoch_loss += loss.item()     # Discard gradients and store total loss\n",
    "    print(f\"Epoch: {epoch+1}, loss: {total_epoch_loss}\")\n",
    "    model_state = {\"model_state_dict\": net.state_dict(), \"optimizer_state_dict\": optimizer.state_dict()}\n",
    "    torch.save(model_state, f\"checkpoint{epoch+1}.pkl\")\n",
    "\n",
    "print(\"Training done\")"
   ]
  },
  {
   "cell_type": "code",
   "execution_count": null,
   "id": "9a1df32f",
   "metadata": {},
   "outputs": [],
   "source": [
    "# Evaluate network on sample images\n",
    "predictions = net(sample_images.to(device)).detach().cpu().numpy()"
   ]
  },
  {
   "cell_type": "code",
   "execution_count": null,
   "id": "d78384da",
   "metadata": {},
   "outputs": [],
   "source": [
    "prediction_id = 66\n",
    "plt.imshow(sample_images[prediction_id][0])\n",
    "plt.show()\n",
    "plt.imshow(predictions[prediction_id][0])\n",
    "plt.show()\n",
    "\n",
    "plt.imshow(sample_images[prediction_id][0])\n",
    "plt.imshow(predictions[prediction_id][0], cmap=\"jet\", alpha=0.3)\n",
    "plt.show()\n",
    "print(np.min(predictions[prediction_id][0]))\n",
    "print(np.max(predictions[prediction_id][0]))"
   ]
  }
 ],
 "metadata": {
  "interpreter": {
   "hash": "31f2aee4e71d21fbe5cf8b01ff0e069b9275f58929596ceb00d14d90e3e16cd6"
  },
  "kernelspec": {
   "display_name": "Python 3 (ipykernel)",
   "language": "python",
   "name": "python3"
  },
  "language_info": {
   "codemirror_mode": {
    "name": "ipython",
    "version": 3
   },
   "file_extension": ".py",
   "mimetype": "text/x-python",
   "name": "python",
   "nbconvert_exporter": "python",
   "pygments_lexer": "ipython3",
   "version": "3.8.10"
  }
 },
 "nbformat": 4,
 "nbformat_minor": 5
}
